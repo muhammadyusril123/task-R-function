{
 "cells": [
  {
   "cell_type": "code",
   "execution_count": 2,
   "metadata": {},
   "outputs": [
    {
     "data": {
      "text/html": [
       "6"
      ],
      "text/latex": [
       "6"
      ],
      "text/markdown": [
       "6"
      ],
      "text/plain": [
       "[1] 6"
      ]
     },
     "metadata": {},
     "output_type": "display_data"
    }
   ],
   "source": [
    "# Answer number 1\n",
    "#1.1  f(x) = x^3 + x^2 - 6 \n",
    "\n",
    "f1 <- function(x) {\n",
    "    result <- x^3 + x^2 -6\n",
    "    return(result)\n",
    "}\n",
    "f1(2) #misal x <- 2"
   ]
  },
  {
   "cell_type": "code",
   "execution_count": 3,
   "metadata": {},
   "outputs": [
    {
     "data": {
      "text/html": [
       "-6"
      ],
      "text/latex": [
       "-6"
      ],
      "text/markdown": [
       "-6"
      ],
      "text/plain": [
       "[1] -6"
      ]
     },
     "metadata": {},
     "output_type": "display_data"
    }
   ],
   "source": [
    "#1.2 g(a,b) = a*b (b-a)\n",
    "\n",
    "g <- function(a,b) {\n",
    "    result <- a*b *(b-a)\n",
    "    return(result)\n",
    "}\n",
    "g(3,2) #misal a <- 3 & b <- 2"
   ]
  },
  {
   "cell_type": "code",
   "execution_count": 5,
   "metadata": {},
   "outputs": [
    {
     "data": {
      "text/html": [
       "-0.4"
      ],
      "text/latex": [
       "-0.4"
      ],
      "text/markdown": [
       "-0.4"
      ],
      "text/plain": [
       "[1] -0.4"
      ]
     },
     "metadata": {},
     "output_type": "display_data"
    }
   ],
   "source": [
    "#1.3 h(m,n) = (sqrt(m)/n) + m - 2n\n",
    "\n",
    "h <- function(m,n) {\n",
    "    result <- (sqrt(m)/n) + m -2*n\n",
    "    return(result)\n",
    "}\n",
    "\n",
    "h(9,5) #misal m <- 9 & n <- 5"
   ]
  },
  {
   "cell_type": "code",
   "execution_count": 23,
   "metadata": {},
   "outputs": [
    {
     "data": {
      "text/html": [
       "<table>\n",
       "<tbody>\n",
       "\t<tr><td>1</td><td>2</td></tr>\n",
       "\t<tr><td>3</td><td>4</td></tr>\n",
       "</tbody>\n",
       "</table>\n"
      ],
      "text/latex": [
       "\\begin{tabular}{ll}\n",
       "\t 1 & 2\\\\\n",
       "\t 3 & 4\\\\\n",
       "\\end{tabular}\n"
      ],
      "text/markdown": [
       "\n",
       "| 1 | 2 | \n",
       "| 3 | 4 | \n",
       "\n",
       "\n"
      ],
      "text/plain": [
       "     [,1] [,2]\n",
       "[1,] 1    2   \n",
       "[2,] 3    4   "
      ]
     },
     "metadata": {},
     "output_type": "display_data"
    },
    {
     "data": {
      "text/html": [
       "<table>\n",
       "<tbody>\n",
       "\t<tr><td> 9</td><td>10</td></tr>\n",
       "\t<tr><td>11</td><td>12</td></tr>\n",
       "</tbody>\n",
       "</table>\n"
      ],
      "text/latex": [
       "\\begin{tabular}{ll}\n",
       "\t  9 & 10\\\\\n",
       "\t 11 & 12\\\\\n",
       "\\end{tabular}\n"
      ],
      "text/markdown": [
       "\n",
       "|  9 | 10 | \n",
       "| 11 | 12 | \n",
       "\n",
       "\n"
      ],
      "text/plain": [
       "     [,1] [,2]\n",
       "[1,]  9   10  \n",
       "[2,] 11   12  "
      ]
     },
     "metadata": {},
     "output_type": "display_data"
    },
    {
     "data": {
      "text/html": [
       "<table>\n",
       "<tbody>\n",
       "\t<tr><td>1162</td><td>1276</td></tr>\n",
       "\t<tr><td>1570</td><td>1724</td></tr>\n",
       "</tbody>\n",
       "</table>\n"
      ],
      "text/latex": [
       "\\begin{tabular}{ll}\n",
       "\t 1162 & 1276\\\\\n",
       "\t 1570 & 1724\\\\\n",
       "\\end{tabular}\n"
      ],
      "text/markdown": [
       "\n",
       "| 1162 | 1276 | \n",
       "| 1570 | 1724 | \n",
       "\n",
       "\n"
      ],
      "text/plain": [
       "     [,1] [,2]\n",
       "[1,] 1162 1276\n",
       "[2,] 1570 1724"
      ]
     },
     "metadata": {},
     "output_type": "display_data"
    }
   ],
   "source": [
    "#Answer number 2\n",
    "#2.1 f(a,b) = (a+b) %*% a%*%b\n",
    "\n",
    "a <- matrix(c(1:4), 2, 2, TRUE)    #misal a matriksnya 1-4\n",
    "b <- matrix(c(9:12), 2, 2, TRUE)   #misal b matriksnya 9-12\n",
    "f <- function(a,b) {\n",
    "    result <- (a+b) %*% a%*%b\n",
    "    return(result)\n",
    "}\n",
    "a  #tampil matriks a\n",
    "b  #tampil matriks b\n",
    "f(a,b)"
   ]
  },
  {
   "cell_type": "code",
   "execution_count": 36,
   "metadata": {},
   "outputs": [
    {
     "data": {
      "text/html": [
       "<table>\n",
       "<tbody>\n",
       "\t<tr><td>5</td><td>6</td></tr>\n",
       "\t<tr><td>7</td><td>8</td></tr>\n",
       "</tbody>\n",
       "</table>\n"
      ],
      "text/latex": [
       "\\begin{tabular}{ll}\n",
       "\t 5 & 6\\\\\n",
       "\t 7 & 8\\\\\n",
       "\\end{tabular}\n"
      ],
      "text/markdown": [
       "\n",
       "| 5 | 6 | \n",
       "| 7 | 8 | \n",
       "\n",
       "\n"
      ],
      "text/plain": [
       "     [,1] [,2]\n",
       "[1,] 5    6   \n",
       "[2,] 7    8   "
      ]
     },
     "metadata": {},
     "output_type": "display_data"
    },
    {
     "data": {
      "text/html": [
       "<table>\n",
       "<tbody>\n",
       "\t<tr><td>13</td><td>14</td></tr>\n",
       "\t<tr><td>15</td><td>16</td></tr>\n",
       "</tbody>\n",
       "</table>\n"
      ],
      "text/latex": [
       "\\begin{tabular}{ll}\n",
       "\t 13 & 14\\\\\n",
       "\t 15 & 16\\\\\n",
       "\\end{tabular}\n"
      ],
      "text/markdown": [
       "\n",
       "| 13 | 14 | \n",
       "| 15 | 16 | \n",
       "\n",
       "\n"
      ],
      "text/plain": [
       "     [,1] [,2]\n",
       "[1,] 13   14  \n",
       "[2,] 15   16  "
      ]
     },
     "metadata": {},
     "output_type": "display_data"
    },
    {
     "data": {
      "text/html": [
       "-2"
      ],
      "text/latex": [
       "-2"
      ],
      "text/markdown": [
       "-2"
      ],
      "text/plain": [
       "[1] -2"
      ]
     },
     "metadata": {},
     "output_type": "display_data"
    },
    {
     "data": {
      "text/html": [
       "<table>\n",
       "<tbody>\n",
       "\t<tr><td>-181</td><td>-194</td></tr>\n",
       "\t<tr><td>-241</td><td>-258</td></tr>\n",
       "</tbody>\n",
       "</table>\n"
      ],
      "text/latex": [
       "\\begin{tabular}{ll}\n",
       "\t -181 & -194\\\\\n",
       "\t -241 & -258\\\\\n",
       "\\end{tabular}\n"
      ],
      "text/markdown": [
       "\n",
       "| -181 | -194 | \n",
       "| -241 | -258 | \n",
       "\n",
       "\n"
      ],
      "text/plain": [
       "     [,1] [,2]\n",
       "[1,] -181 -194\n",
       "[2,] -241 -258"
      ]
     },
     "metadata": {},
     "output_type": "display_data"
    }
   ],
   "source": [
    "#2.2 h(m,n) = |m|%*%n - m%*%n\n",
    "\n",
    "m <- matrix(c(5:8), 2, 2, TRUE)       #misal a matriksnya 5-8\n",
    "n <- matrix(c(13:16), 2, 2, TRUE)     #misal a matriksnya 13-16\n",
    "h <- function(m,n) {\n",
    "    result <- det(m)*n - m%*%n\n",
    "    return(result)\n",
    "}\n",
    "m  #tampil matriks m\n",
    "n  #tampil matriks n\n",
    "det(m)\n",
    "h(m,n)"
   ]
  },
  {
   "cell_type": "code",
   "execution_count": 48,
   "metadata": {},
   "outputs": [
    {
     "data": {
      "text/html": [
       "<table>\n",
       "<tbody>\n",
       "\t<tr><td>2</td><td>3</td></tr>\n",
       "\t<tr><td>4</td><td>5</td></tr>\n",
       "</tbody>\n",
       "</table>\n"
      ],
      "text/latex": [
       "\\begin{tabular}{ll}\n",
       "\t 2 & 3\\\\\n",
       "\t 4 & 5\\\\\n",
       "\\end{tabular}\n"
      ],
      "text/markdown": [
       "\n",
       "| 2 | 3 | \n",
       "| 4 | 5 | \n",
       "\n",
       "\n"
      ],
      "text/plain": [
       "     [,1] [,2]\n",
       "[1,] 2    3   \n",
       "[2,] 4    5   "
      ]
     },
     "metadata": {},
     "output_type": "display_data"
    },
    {
     "data": {
      "text/html": [
       "<table>\n",
       "<tbody>\n",
       "\t<tr><td>-2.5</td><td> 1.5</td></tr>\n",
       "\t<tr><td> 2.0</td><td>-1.0</td></tr>\n",
       "</tbody>\n",
       "</table>\n"
      ],
      "text/latex": [
       "\\begin{tabular}{ll}\n",
       "\t -2.5 &  1.5\\\\\n",
       "\t  2.0 & -1.0\\\\\n",
       "\\end{tabular}\n"
      ],
      "text/markdown": [
       "\n",
       "| -2.5 |  1.5 | \n",
       "|  2.0 | -1.0 | \n",
       "\n",
       "\n"
      ],
      "text/plain": [
       "     [,1] [,2]\n",
       "[1,] -2.5  1.5\n",
       "[2,]  2.0 -1.0"
      ]
     },
     "metadata": {},
     "output_type": "display_data"
    },
    {
     "data": {
      "text/html": [
       "<table>\n",
       "<tbody>\n",
       "\t<tr><td>1</td><td>0</td></tr>\n",
       "\t<tr><td>0</td><td>1</td></tr>\n",
       "</tbody>\n",
       "</table>\n"
      ],
      "text/latex": [
       "\\begin{tabular}{ll}\n",
       "\t 1 & 0\\\\\n",
       "\t 0 & 1\\\\\n",
       "\\end{tabular}\n"
      ],
      "text/markdown": [
       "\n",
       "| 1 | 0 | \n",
       "| 0 | 1 | \n",
       "\n",
       "\n"
      ],
      "text/plain": [
       "     [,1] [,2]\n",
       "[1,] 1    0   \n",
       "[2,] 0    1   "
      ]
     },
     "metadata": {},
     "output_type": "display_data"
    },
    {
     "data": {
      "text/html": [
       "<table>\n",
       "<tbody>\n",
       "\t<tr><td>-3</td><td>-6</td></tr>\n",
       "\t<tr><td>-8</td><td>-9</td></tr>\n",
       "</tbody>\n",
       "</table>\n"
      ],
      "text/latex": [
       "\\begin{tabular}{ll}\n",
       "\t -3 & -6\\\\\n",
       "\t -8 & -9\\\\\n",
       "\\end{tabular}\n"
      ],
      "text/markdown": [
       "\n",
       "| -3 | -6 | \n",
       "| -8 | -9 | \n",
       "\n",
       "\n"
      ],
      "text/plain": [
       "     [,1] [,2]\n",
       "[1,] -3   -6  \n",
       "[2,] -8   -9  "
      ]
     },
     "metadata": {},
     "output_type": "display_data"
    }
   ],
   "source": [
    "#2.3 g(x) = solve(x)%*%x - 2*x\n",
    "\n",
    "x <- matrix(c(2:5), 2, 2, TRUE)       #misal x matriksnya 1-5\n",
    "g <- function(x) {\n",
    "    result <- solve(x)%*%x - 2*x\n",
    "    return(result)\n",
    "}\n",
    "x  #tampil matriks x\n",
    "solve(x)\n",
    "solve(x)%*%x\n",
    "g(x)"
   ]
  },
  {
   "cell_type": "code",
   "execution_count": 39,
   "metadata": {},
   "outputs": [
    {
     "data": {
      "image/png": "[encoded data removed]",
      "text/plain": [
       "plot without title"
      ]
     },
     "metadata": {},
     "output_type": "display_data"
    }
   ],
   "source": [
    "#Exercise Implement the following functions with R, and experiment with the domain and the plot.\n",
    "\n",
    "#number 1\n",
    "# f(x) = sin(x)\n",
    "\n",
    "curve(sin, -2*pi, 2*pi, xname = \"x\")"
   ]
  },
  {
   "cell_type": "code",
   "execution_count": null,
   "metadata": {},
   "outputs": [],
   "source": []
  }
 ],
 "metadata": {
  "kernelspec": {
   "display_name": "R",
   "language": "R",
   "name": "ir"
  },
  "language_info": {
   "codemirror_mode": "r",
   "file_extension": ".r",
   "mimetype": "text/x-r-source",
   "name": "R",
   "pygments_lexer": "r",
   "version": "3.5.1"
  }
 },
 "nbformat": 4,
 "nbformat_minor": 2
}
